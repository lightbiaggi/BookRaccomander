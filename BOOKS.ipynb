{
 "cells": [
  {
   "cell_type": "markdown",
   "metadata": {},
   "source": [
    "# Import the different Library"
   ]
  },
  {
   "cell_type": "code",
   "execution_count": 1,
   "metadata": {
    "tags": []
   },
   "outputs": [
    {
     "output_type": "stream",
     "name": "stderr",
     "text": "Using TensorFlow backend.\n"
    }
   ],
   "source": [
    "import numpy as np\n",
    "import pandas as pd\n",
    "import matplotlib.pyplot as plt\n",
    "import os\n",
    "import warnings\n",
    "\n",
    "from keras.layers import Input, Embedding, Flatten, Dot, Dense, Concatenate\n",
    "from keras.models import Model\n",
    "\n",
    "warnings.filterwarnings('ignore')\n",
    "%matplotlib inline"
   ]
  },
  {
   "cell_type": "markdown",
   "metadata": {},
   "source": [
    "# Introduction to Recommender Systems\n",
    "\n",
    "A recommender system, in simple terms, seeks to model a user’s behavior regarding targeted items and/or products.     A recommender system leverages user data to better understand how they interact with items. \n",
    "(Items here are books)\n",
    "\n",
    "## Book Recommandation system \n",
    "\n",
    "In this Notebook, we’ll be using a neural network approach to building a collaborative filtering recommender system.\n",
    "We’ll use something called an embedding to build a profile/understanding of the interactions between users and books.(it’s more of a hybrid approach)\n",
    "We will create this recommandation system by leveraging existing data of books, users, and ratings given by users. \n",
    "After that a special kind of neural network layer called an embedding will be trained on this interaction by learning the similarity between books in something called an embedding space.\n",
    "The knowledge, gained using the similarity will be combined with the user ratings of each book to train a neural network\n",
    "\n",
    "### This is a classic regression approach, where the input is the learned embedding of book-user interaction, and the target/labels are book ratings given by the users.\n"
   ]
  },
  {
   "cell_type": "markdown",
   "metadata": {},
   "source": [
    "# Import the dataset of book rating "
   ]
  },
  {
   "cell_type": "code",
   "execution_count": 2,
   "metadata": {},
   "outputs": [],
   "source": [
    "dataset = pd.read_csv('ratings.csv')"
   ]
  },
  {
   "cell_type": "code",
   "execution_count": 3,
   "metadata": {},
   "outputs": [
    {
     "output_type": "execute_result",
     "data": {
      "text/plain": "   book_id  user_id  rating\n0        1      314       5\n1        1      439       3\n2        1      588       5\n3        1     1169       4\n4        1     1185       4",
      "text/html": "<div>\n<style scoped>\n    .dataframe tbody tr th:only-of-type {\n        vertical-align: middle;\n    }\n\n    .dataframe tbody tr th {\n        vertical-align: top;\n    }\n\n    .dataframe thead th {\n        text-align: right;\n    }\n</style>\n<table border=\"1\" class=\"dataframe\">\n  <thead>\n    <tr style=\"text-align: right;\">\n      <th></th>\n      <th>book_id</th>\n      <th>user_id</th>\n      <th>rating</th>\n    </tr>\n  </thead>\n  <tbody>\n    <tr>\n      <th>0</th>\n      <td>1</td>\n      <td>314</td>\n      <td>5</td>\n    </tr>\n    <tr>\n      <th>1</th>\n      <td>1</td>\n      <td>439</td>\n      <td>3</td>\n    </tr>\n    <tr>\n      <th>2</th>\n      <td>1</td>\n      <td>588</td>\n      <td>5</td>\n    </tr>\n    <tr>\n      <th>3</th>\n      <td>1</td>\n      <td>1169</td>\n      <td>4</td>\n    </tr>\n    <tr>\n      <th>4</th>\n      <td>1</td>\n      <td>1185</td>\n      <td>4</td>\n    </tr>\n  </tbody>\n</table>\n</div>"
     },
     "metadata": {},
     "execution_count": 3
    }
   ],
   "source": [
    "dataset.head()"
   ]
  },
  {
   "cell_type": "markdown",
   "metadata": {},
   "source": [
    "the ratings dataset contains just three columns: book_id, user_id, and the corresponding rating given by the user."
   ]
  },
  {
   "cell_type": "code",
   "execution_count": 4,
   "metadata": {},
   "outputs": [
    {
     "output_type": "execute_result",
     "data": {
      "text/plain": "(981756, 3)"
     },
     "metadata": {},
     "execution_count": 4
    }
   ],
   "source": [
    "dataset.shape"
   ]
  },
  {
   "cell_type": "markdown",
   "metadata": {},
   "source": [
    "the shape of the dataset (number of row and column)"
   ]
  },
  {
   "cell_type": "markdown",
   "metadata": {},
   "source": [
    "# Split the data into train and test\n",
    "To effectively evaluate the model performance (because we’re treating this as a regression problem) test size of 0.2 (20%)"
   ]
  },
  {
   "cell_type": "code",
   "execution_count": 5,
   "metadata": {},
   "outputs": [],
   "source": [
    "from sklearn.model_selection import train_test_split\n",
    "train, test = train_test_split(dataset, test_size=0.20, random_state=42)"
   ]
  },
  {
   "cell_type": "code",
   "execution_count": 6,
   "metadata": {
    "tags": []
   },
   "outputs": [
    {
     "output_type": "stream",
     "name": "stdout",
     "text": "Shape of train data: (785404, 3)\nShape of test data: (196352, 3)\n"
    }
   ],
   "source": [
    "print(f\"Shape of train data: {train.shape}\")\n",
    "print(f\"Shape of test data: {test.shape}\")"
   ]
  },
  {
   "cell_type": "markdown",
   "metadata": {},
   "source": [
    "# Building the recommendation engine using TensorFlow / Keras\n",
    "The neural network we will create will have two input embedding layers. The first embedding layer accepts the books, and the second the users. These two embeddings are trained separately and then combined together before being passed to a dense layer."
   ]
  },
  {
   "cell_type": "markdown",
   "metadata": {},
   "source": [
    "### we will start by Geting the number of unique entities in books and users column"
   ]
  },
  {
   "cell_type": "code",
   "execution_count": 11,
   "metadata": {},
   "outputs": [
    {
     "output_type": "execute_result",
     "data": {
      "text/plain": "53424"
     },
     "metadata": {},
     "execution_count": 11
    }
   ],
   "source": [
    "n_users = len(dataset.user_id.unique())\n",
    "n_users"
   ]
  },
  {
   "cell_type": "code",
   "execution_count": 12,
   "metadata": {},
   "outputs": [
    {
     "output_type": "execute_result",
     "data": {
      "text/plain": "10000"
     },
     "metadata": {},
     "execution_count": 12
    }
   ],
   "source": [
    "n_books = len(dataset.book_id.unique())\n",
    "n_books"
   ]
  },
  {
   "cell_type": "code",
   "execution_count": 9,
   "metadata": {},
   "outputs": [
    {
     "output_type": "error",
     "ename": "NameError",
     "evalue": "name 'n_users' is not defined",
     "traceback": [
      "\u001b[0;31m---------------------------------------------------------------------------\u001b[0m",
      "\u001b[0;31mNameError\u001b[0m                                 Traceback (most recent call last)",
      "\u001b[0;32m<ipython-input-9-16a9bc547763>\u001b[0m in \u001b[0;36m<module>\u001b[0;34m\u001b[0m\n\u001b[1;32m     14\u001b[0m \u001b[0;31m#user input network\u001b[0m\u001b[0;34m\u001b[0m\u001b[0;34m\u001b[0m\u001b[0;34m\u001b[0m\u001b[0m\n\u001b[1;32m     15\u001b[0m \u001b[0minput_users\u001b[0m \u001b[0;34m=\u001b[0m \u001b[0mtf\u001b[0m\u001b[0;34m.\u001b[0m\u001b[0mlayers\u001b[0m\u001b[0;34m.\u001b[0m\u001b[0mInput\u001b[0m\u001b[0;34m(\u001b[0m\u001b[0mshape\u001b[0m\u001b[0;34m=\u001b[0m\u001b[0;34m[\u001b[0m\u001b[0;36m1\u001b[0m\u001b[0;34m]\u001b[0m\u001b[0;34m)\u001b[0m\u001b[0;34m\u001b[0m\u001b[0;34m\u001b[0m\u001b[0m\n\u001b[0;32m---> 16\u001b[0;31m \u001b[0membed_users\u001b[0m \u001b[0;34m=\u001b[0m \u001b[0mtf\u001b[0m\u001b[0;34m.\u001b[0m\u001b[0mlayers\u001b[0m\u001b[0;34m.\u001b[0m\u001b[0mEmbedding\u001b[0m\u001b[0;34m(\u001b[0m\u001b[0mn_users\u001b[0m \u001b[0;34m+\u001b[0m \u001b[0;36m1\u001b[0m\u001b[0;34m,\u001b[0m\u001b[0;36m15\u001b[0m\u001b[0;34m)\u001b[0m\u001b[0;34m(\u001b[0m\u001b[0minput_users\u001b[0m\u001b[0;34m)\u001b[0m\u001b[0;34m\u001b[0m\u001b[0;34m\u001b[0m\u001b[0m\n\u001b[0m\u001b[1;32m     17\u001b[0m \u001b[0musers_out\u001b[0m \u001b[0;34m=\u001b[0m \u001b[0mtf\u001b[0m\u001b[0;34m.\u001b[0m\u001b[0mlayers\u001b[0m\u001b[0;34m.\u001b[0m\u001b[0mFlatten\u001b[0m\u001b[0;34m(\u001b[0m\u001b[0;34m)\u001b[0m\u001b[0;34m(\u001b[0m\u001b[0membed_users\u001b[0m\u001b[0;34m)\u001b[0m\u001b[0;34m\u001b[0m\u001b[0;34m\u001b[0m\u001b[0m\n\u001b[1;32m     18\u001b[0m \u001b[0;34m\u001b[0m\u001b[0m\n",
      "\u001b[0;31mNameError\u001b[0m: name 'n_users' is not defined"
     ]
    }
   ],
   "source": [
    "import tensorflow.keras as tf\n",
    "\n",
    "#Book input network\n",
    "## First we create an input layer to accept a 1 D array of book IDs\n",
    "input_books = tf.layers.Input(shape=[1])\n",
    "## Second we create an embedding layer (hidden layer of a network) with the shape of (number of unique books + 1,5)\n",
    "## The second dimension (5), is an arbitrary dimension we chose. (how large we want the embedding layer to be)\n",
    "## we append the input layer to the end of the book embedding layer. \n",
    "## We want by that passing the output of the input layer to the embedding layer.\n",
    "embed_books = tf.layers.Embedding(n_books + 1,15)(input_books)\n",
    "## Flattening a tensor means to remove all of the dimensions except for one.\n",
    "books_out = tf.layers.Flatten()(embed_books)\n",
    "\n",
    "#user input network\n",
    "input_users = tf.layers.Input(shape=[1])\n",
    "embed_users = tf.layers.Embedding(n_users + 1,15)(input_users)\n",
    "users_out = tf.layers.Flatten()(embed_users)\n",
    "\n",
    "##concatenate line, we simply concatenate or join both the books and the user embedding layer together,\n",
    "conc_layer = tf.layers.Concatenate()([books_out, users_out])\n",
    "##add a single dense layer with 128 nodes on top of it. \n",
    "x = tf.layers.Dense(128, activation='relu')(conc_layer)\n",
    "##For the final layer of the network, we use a single node, \n",
    "##because we’re predicting the ratings given to each book, and that requires just a single node.\n",
    "x_out = x = tf.layers.Dense(1, activation='relu')(x)\n",
    "model = tf.Model([input_books, input_users], x_out)"
   ]
  },
  {
   "cell_type": "code",
   "execution_count": 16,
   "metadata": {
    "tags": []
   },
   "outputs": [
    {
     "output_type": "stream",
     "name": "stdout",
     "text": "Model: \"functional_1\"\n__________________________________________________________________________________________________\nLayer (type)                    Output Shape         Param #     Connected to                     \n==================================================================================================\ninput_1 (InputLayer)            [(None, 1)]          0                                            \n__________________________________________________________________________________________________\ninput_2 (InputLayer)            [(None, 1)]          0                                            \n__________________________________________________________________________________________________\nembedding (Embedding)           (None, 1, 15)        150015      input_1[0][0]                    \n__________________________________________________________________________________________________\nembedding_1 (Embedding)         (None, 1, 15)        801375      input_2[0][0]                    \n__________________________________________________________________________________________________\nflatten (Flatten)               (None, 15)           0           embedding[0][0]                  \n__________________________________________________________________________________________________\nflatten_1 (Flatten)             (None, 15)           0           embedding_1[0][0]                \n__________________________________________________________________________________________________\nconcatenate (Concatenate)       (None, 30)           0           flatten[0][0]                    \n                                                                 flatten_1[0][0]                  \n__________________________________________________________________________________________________\ndense (Dense)                   (None, 128)          3968        concatenate[0][0]                \n__________________________________________________________________________________________________\ndense_1 (Dense)                 (None, 1)            129         dense[0][0]                      \n==================================================================================================\nTotal params: 955,487\nTrainable params: 955,487\nNon-trainable params: 0\n__________________________________________________________________________________________________\n"
    }
   ],
   "source": [
    "opt = tf.optimizers.Adam(learning_rate=0.001)\n",
    "model.compile(optimizer=opt, loss='mean_squared_error')\n",
    "model.summary()"
   ]
  },
  {
   "cell_type": "code",
   "execution_count": 17,
   "metadata": {
    "tags": []
   },
   "outputs": [
    {
     "output_type": "stream",
     "name": "stdout",
     "text": "Epoch 1/5\n12272/12272 [==============================] - 516s 42ms/step - loss: 0.8593 - val_loss: 0.7249\nEpoch 2/5\n 1811/12272 [===>..........................] - ETA: 7:00 - loss: 0.6572"
    }
   ],
   "source": [
    "history = model.fit([train.book_id, train.user_id], train.rating, \n",
    "                 batch_size=64, \n",
    "                 epochs=5, \n",
    "                 verbose=1,\n",
    "                 validation_data=([test.book_id, test.user_id], test.rating))\n"
   ]
  },
  {
   "cell_type": "raw",
   "metadata": {},
   "source": [
    "The fit parameter expects two arrays as input, based on our predefined architecture. So we pass a list of books and users IDs, and also the ratings as the target. I chose a batch size of 64 because the dataset is quite large, and I wanted faster training. You can play around with the batch size as well, but 64 and 128 typically work best. I also trained for just five epochs\n",
    "we pass our test set to the validation parameter. This tells Keras to calculate performance on previously unseen data at the end of every epoch. We’ll plot these metrics below to understand how well our model is doing:"
   ]
  },
  {
   "cell_type": "code",
   "execution_count": 12,
   "metadata": {},
   "outputs": [
    {
     "data": {
      "image/png": "[encoded data removed]",
      "text/plain": [
       "<Figure size 432x288 with 1 Axes>"
      ]
     },
     "metadata": {
      "needs_background": "light"
     },
     "output_type": "display_data"
    }
   ],
   "source": [
    "train_loss = history.history['loss']\n",
    "val_loss = history.history['val_loss']\n",
    "plt.plot(train_loss, color='r', label='Train Loss')\n",
    "plt.plot(val_loss, color='b', label='Validation Loss')\n",
    "plt.title(\"Train and Validation Loss Curve\")\n",
    "plt.legend()\n",
    "plt.show()"
   ]
  },
  {
   "cell_type": "raw",
   "metadata": {},
   "source": [
    "we notice a steady decrease in the training loss, but little or no improvement in the validation loss. This is the classic case of overfitting, and we can improve this with hyperparameter tuning and possibly by adding more layers to our network."
   ]
  },
  {
   "cell_type": "markdown",
   "metadata": {},
   "source": [
    "# Making Recommendations for Users\n",
    "In order to make recommendations, we need to pass in the list of books and a particular user to the model. That is, the model will make a prediction of a rating it thinks the user will give to books based on its understanding of the user.\n",
    "These ratings are then sorted in ascending order of magnitude. Therefore, if we want to, say, recommend 10 books to a user, we’ll pass in a list of books to the model to predict ratings it feels the user will give to those books. Then we pick the top 10 of these ratings and recommend those books to the user."
   ]
  },
  {
   "cell_type": "code",
   "execution_count": 13,
   "metadata": {},
   "outputs": [
    {
     "data": {
      "text/plain": [
       "array([    1,     2,     3, ...,  9998,  9999, 10000])"
      ]
     },
     "execution_count": 13,
     "metadata": {},
     "output_type": "execute_result"
    }
   ],
   "source": [
    "book_data = np.array(list(set(dataset.book_id)))\n",
    "book_data"
   ]
  },
  {
   "cell_type": "code",
   "execution_count": 14,
   "metadata": {},
   "outputs": [
    {
     "data": {
      "text/plain": [
       "array([100, 100, 100, ..., 100, 100, 100])"
      ]
     },
     "execution_count": 14,
     "metadata": {},
     "output_type": "execute_result"
    }
   ],
   "source": [
    "user = np.array([100 for i in range(len(list(set(dataset.book_id))))])\n",
    "user"
   ]
  },
  {
   "cell_type": "code",
   "execution_count": 15,
   "metadata": {},
   "outputs": [
    {
     "data": {
      "text/plain": [
       "array([[4.4266624],\n",
       "       [4.174655 ],\n",
       "       [3.1848145],\n",
       "       ...,\n",
       "       [4.370235 ],\n",
       "       [3.8025646],\n",
       "       [3.9416952]], dtype=float32)"
      ]
     },
     "execution_count": 15,
     "metadata": {},
     "output_type": "execute_result"
    }
   ],
   "source": [
    "pred = model.predict([book_data, user])\n",
    "pred"
   ]
  },
  {
   "cell_type": "raw",
   "metadata": {},
   "source": [
    "in the code cell above, first, we get all book IDs and save them in an array(from the rating data set). Then we create another array with the same length as the book array, but with the same user ID ( in this case we try to recommand for the user 100) all through. Next, we pass it to the model, which is expecting two inputs (Books and User). The returned array is a list of predicted ratings for each book.\n",
    "\n",
    "Next, we’ll sort the array, and retrieve the index of the highest 5. With this index, we can retrieve the corresponding books from the dataset:"
   ]
  },
  {
   "cell_type": "code",
   "execution_count": 16,
   "metadata": {},
   "outputs": [
    {
     "data": {
      "text/plain": [
       "array([9075, 6589, 7946, 3752, 8853])"
      ]
     },
     "execution_count": 16,
     "metadata": {},
     "output_type": "execute_result"
    }
   ],
   "source": [
    "pred = pred.reshape(-1) #reshape to single dimension\n",
    "pred_ids = (-pred).argsort()[0:5]\n",
    "pred_ids"
   ]
  },
  {
   "cell_type": "raw",
   "metadata": {},
   "source": [
    "Getting the book data"
   ]
  },
  {
   "cell_type": "code",
   "execution_count": 17,
   "metadata": {},
   "outputs": [
    {
     "data": {
      "text/html": [
       "<div>\n",
       "<style scoped>\n",
       "    .dataframe tbody tr th:only-of-type {\n",
       "        vertical-align: middle;\n",
       "    }\n",
       "\n",
       "    .dataframe tbody tr th {\n",
       "        vertical-align: top;\n",
       "    }\n",
       "\n",
       "    .dataframe thead th {\n",
       "        text-align: right;\n",
       "    }\n",
       "</style>\n",
       "<table border=\"1\" class=\"dataframe\">\n",
       "  <thead>\n",
       "    <tr style=\"text-align: right;\">\n",
       "      <th></th>\n",
       "      <th>id</th>\n",
       "      <th>book_id</th>\n",
       "      <th>best_book_id</th>\n",
       "      <th>work_id</th>\n",
       "      <th>books_count</th>\n",
       "      <th>isbn</th>\n",
       "      <th>isbn13</th>\n",
       "      <th>authors</th>\n",
       "      <th>original_publication_year</th>\n",
       "      <th>original_title</th>\n",
       "      <th>...</th>\n",
       "      <th>ratings_count</th>\n",
       "      <th>work_ratings_count</th>\n",
       "      <th>work_text_reviews_count</th>\n",
       "      <th>ratings_1</th>\n",
       "      <th>ratings_2</th>\n",
       "      <th>ratings_3</th>\n",
       "      <th>ratings_4</th>\n",
       "      <th>ratings_5</th>\n",
       "      <th>image_url</th>\n",
       "      <th>small_image_url</th>\n",
       "    </tr>\n",
       "  </thead>\n",
       "  <tbody>\n",
       "    <tr>\n",
       "      <th>0</th>\n",
       "      <td>1</td>\n",
       "      <td>2767052</td>\n",
       "      <td>2767052</td>\n",
       "      <td>2792775</td>\n",
       "      <td>272</td>\n",
       "      <td>439023483</td>\n",
       "      <td>9.780439e+12</td>\n",
       "      <td>Suzanne Collins</td>\n",
       "      <td>2008.0</td>\n",
       "      <td>The Hunger Games</td>\n",
       "      <td>...</td>\n",
       "      <td>4780653</td>\n",
       "      <td>4942365</td>\n",
       "      <td>155254</td>\n",
       "      <td>66715</td>\n",
       "      <td>127936</td>\n",
       "      <td>560092</td>\n",
       "      <td>1481305</td>\n",
       "      <td>2706317</td>\n",
       "      <td>https://images.gr-assets.com/books/1447303603m...</td>\n",
       "      <td>https://images.gr-assets.com/books/1447303603s...</td>\n",
       "    </tr>\n",
       "    <tr>\n",
       "      <th>1</th>\n",
       "      <td>2</td>\n",
       "      <td>3</td>\n",
       "      <td>3</td>\n",
       "      <td>4640799</td>\n",
       "      <td>491</td>\n",
       "      <td>439554934</td>\n",
       "      <td>9.780440e+12</td>\n",
       "      <td>J.K. Rowling, Mary GrandPré</td>\n",
       "      <td>1997.0</td>\n",
       "      <td>Harry Potter and the Philosopher's Stone</td>\n",
       "      <td>...</td>\n",
       "      <td>4602479</td>\n",
       "      <td>4800065</td>\n",
       "      <td>75867</td>\n",
       "      <td>75504</td>\n",
       "      <td>101676</td>\n",
       "      <td>455024</td>\n",
       "      <td>1156318</td>\n",
       "      <td>3011543</td>\n",
       "      <td>https://images.gr-assets.com/books/1474154022m...</td>\n",
       "      <td>https://images.gr-assets.com/books/1474154022s...</td>\n",
       "    </tr>\n",
       "    <tr>\n",
       "      <th>2</th>\n",
       "      <td>3</td>\n",
       "      <td>41865</td>\n",
       "      <td>41865</td>\n",
       "      <td>3212258</td>\n",
       "      <td>226</td>\n",
       "      <td>316015849</td>\n",
       "      <td>9.780316e+12</td>\n",
       "      <td>Stephenie Meyer</td>\n",
       "      <td>2005.0</td>\n",
       "      <td>Twilight</td>\n",
       "      <td>...</td>\n",
       "      <td>3866839</td>\n",
       "      <td>3916824</td>\n",
       "      <td>95009</td>\n",
       "      <td>456191</td>\n",
       "      <td>436802</td>\n",
       "      <td>793319</td>\n",
       "      <td>875073</td>\n",
       "      <td>1355439</td>\n",
       "      <td>https://images.gr-assets.com/books/1361039443m...</td>\n",
       "      <td>https://images.gr-assets.com/books/1361039443s...</td>\n",
       "    </tr>\n",
       "    <tr>\n",
       "      <th>3</th>\n",
       "      <td>4</td>\n",
       "      <td>2657</td>\n",
       "      <td>2657</td>\n",
       "      <td>3275794</td>\n",
       "      <td>487</td>\n",
       "      <td>61120081</td>\n",
       "      <td>9.780061e+12</td>\n",
       "      <td>Harper Lee</td>\n",
       "      <td>1960.0</td>\n",
       "      <td>To Kill a Mockingbird</td>\n",
       "      <td>...</td>\n",
       "      <td>3198671</td>\n",
       "      <td>3340896</td>\n",
       "      <td>72586</td>\n",
       "      <td>60427</td>\n",
       "      <td>117415</td>\n",
       "      <td>446835</td>\n",
       "      <td>1001952</td>\n",
       "      <td>1714267</td>\n",
       "      <td>https://images.gr-assets.com/books/1361975680m...</td>\n",
       "      <td>https://images.gr-assets.com/books/1361975680s...</td>\n",
       "    </tr>\n",
       "    <tr>\n",
       "      <th>4</th>\n",
       "      <td>5</td>\n",
       "      <td>4671</td>\n",
       "      <td>4671</td>\n",
       "      <td>245494</td>\n",
       "      <td>1356</td>\n",
       "      <td>743273567</td>\n",
       "      <td>9.780743e+12</td>\n",
       "      <td>F. Scott Fitzgerald</td>\n",
       "      <td>1925.0</td>\n",
       "      <td>The Great Gatsby</td>\n",
       "      <td>...</td>\n",
       "      <td>2683664</td>\n",
       "      <td>2773745</td>\n",
       "      <td>51992</td>\n",
       "      <td>86236</td>\n",
       "      <td>197621</td>\n",
       "      <td>606158</td>\n",
       "      <td>936012</td>\n",
       "      <td>947718</td>\n",
       "      <td>https://images.gr-assets.com/books/1490528560m...</td>\n",
       "      <td>https://images.gr-assets.com/books/1490528560s...</td>\n",
       "    </tr>\n",
       "  </tbody>\n",
       "</table>\n",
       "<p>5 rows × 23 columns</p>\n",
       "</div>"
      ],
      "text/plain": [
       "   id  book_id  best_book_id  work_id  books_count       isbn        isbn13  \\\n",
       "0   1  2767052       2767052  2792775          272  439023483  9.780439e+12   \n",
       "1   2        3             3  4640799          491  439554934  9.780440e+12   \n",
       "2   3    41865         41865  3212258          226  316015849  9.780316e+12   \n",
       "3   4     2657          2657  3275794          487   61120081  9.780061e+12   \n",
       "4   5     4671          4671   245494         1356  743273567  9.780743e+12   \n",
       "\n",
       "                       authors  original_publication_year  \\\n",
       "0              Suzanne Collins                     2008.0   \n",
       "1  J.K. Rowling, Mary GrandPré                     1997.0   \n",
       "2              Stephenie Meyer                     2005.0   \n",
       "3                   Harper Lee                     1960.0   \n",
       "4          F. Scott Fitzgerald                     1925.0   \n",
       "\n",
       "                             original_title  ... ratings_count  \\\n",
       "0                          The Hunger Games  ...       4780653   \n",
       "1  Harry Potter and the Philosopher's Stone  ...       4602479   \n",
       "2                                  Twilight  ...       3866839   \n",
       "3                     To Kill a Mockingbird  ...       3198671   \n",
       "4                          The Great Gatsby  ...       2683664   \n",
       "\n",
       "  work_ratings_count  work_text_reviews_count  ratings_1  ratings_2  \\\n",
       "0            4942365                   155254      66715     127936   \n",
       "1            4800065                    75867      75504     101676   \n",
       "2            3916824                    95009     456191     436802   \n",
       "3            3340896                    72586      60427     117415   \n",
       "4            2773745                    51992      86236     197621   \n",
       "\n",
       "   ratings_3  ratings_4  ratings_5  \\\n",
       "0     560092    1481305    2706317   \n",
       "1     455024    1156318    3011543   \n",
       "2     793319     875073    1355439   \n",
       "3     446835    1001952    1714267   \n",
       "4     606158     936012     947718   \n",
       "\n",
       "                                           image_url  \\\n",
       "0  https://images.gr-assets.com/books/1447303603m...   \n",
       "1  https://images.gr-assets.com/books/1474154022m...   \n",
       "2  https://images.gr-assets.com/books/1361039443m...   \n",
       "3  https://images.gr-assets.com/books/1361975680m...   \n",
       "4  https://images.gr-assets.com/books/1490528560m...   \n",
       "\n",
       "                                     small_image_url  \n",
       "0  https://images.gr-assets.com/books/1447303603s...  \n",
       "1  https://images.gr-assets.com/books/1474154022s...  \n",
       "2  https://images.gr-assets.com/books/1361039443s...  \n",
       "3  https://images.gr-assets.com/books/1361975680s...  \n",
       "4  https://images.gr-assets.com/books/1490528560s...  \n",
       "\n",
       "[5 rows x 23 columns]"
      ]
     },
     "execution_count": 17,
     "metadata": {},
     "output_type": "execute_result"
    }
   ],
   "source": [
    "books  = pd.read_csv('/Users/mac/Downloads/books/books.csv')\n",
    "books.head()"
   ]
  },
  {
   "cell_type": "raw",
   "metadata": {},
   "source": [
    "Finally, we’ll use the index (pred_ids) to retrieve the corresponding books from the books.csv DataFrame:"
   ]
  },
  {
   "cell_type": "code",
   "execution_count": 18,
   "metadata": {},
   "outputs": [
    {
     "data": {
      "text/html": [
       "<div>\n",
       "<style scoped>\n",
       "    .dataframe tbody tr th:only-of-type {\n",
       "        vertical-align: middle;\n",
       "    }\n",
       "\n",
       "    .dataframe tbody tr th {\n",
       "        vertical-align: top;\n",
       "    }\n",
       "\n",
       "    .dataframe thead th {\n",
       "        text-align: right;\n",
       "    }\n",
       "</style>\n",
       "<table border=\"1\" class=\"dataframe\">\n",
       "  <thead>\n",
       "    <tr style=\"text-align: right;\">\n",
       "      <th></th>\n",
       "      <th>id</th>\n",
       "      <th>book_id</th>\n",
       "      <th>best_book_id</th>\n",
       "      <th>work_id</th>\n",
       "      <th>books_count</th>\n",
       "      <th>isbn</th>\n",
       "      <th>isbn13</th>\n",
       "      <th>authors</th>\n",
       "      <th>original_publication_year</th>\n",
       "      <th>original_title</th>\n",
       "      <th>...</th>\n",
       "      <th>ratings_count</th>\n",
       "      <th>work_ratings_count</th>\n",
       "      <th>work_text_reviews_count</th>\n",
       "      <th>ratings_1</th>\n",
       "      <th>ratings_2</th>\n",
       "      <th>ratings_3</th>\n",
       "      <th>ratings_4</th>\n",
       "      <th>ratings_5</th>\n",
       "      <th>image_url</th>\n",
       "      <th>small_image_url</th>\n",
       "    </tr>\n",
       "  </thead>\n",
       "  <tbody>\n",
       "    <tr>\n",
       "      <th>9075</th>\n",
       "      <td>9076</td>\n",
       "      <td>2350129</td>\n",
       "      <td>2350129</td>\n",
       "      <td>2356840</td>\n",
       "      <td>5</td>\n",
       "      <td>402366174</td>\n",
       "      <td>9.780402e+12</td>\n",
       "      <td>The Church of Jesus Christ of Latter-day Saints</td>\n",
       "      <td>2004.0</td>\n",
       "      <td>Preach My Gospel (A Guide to Missionary Service)</td>\n",
       "      <td>...</td>\n",
       "      <td>9891</td>\n",
       "      <td>10194</td>\n",
       "      <td>206</td>\n",
       "      <td>105</td>\n",
       "      <td>83</td>\n",
       "      <td>463</td>\n",
       "      <td>1365</td>\n",
       "      <td>8178</td>\n",
       "      <td>https://images.gr-assets.com/books/1399612262m...</td>\n",
       "      <td>https://images.gr-assets.com/books/1399612262s...</td>\n",
       "    </tr>\n",
       "    <tr>\n",
       "      <th>6589</th>\n",
       "      <td>6590</td>\n",
       "      <td>59715</td>\n",
       "      <td>59715</td>\n",
       "      <td>1010526</td>\n",
       "      <td>21</td>\n",
       "      <td>751507954</td>\n",
       "      <td>9.780752e+12</td>\n",
       "      <td>Bill Watterson</td>\n",
       "      <td>1990.0</td>\n",
       "      <td>The Authoritative Calvin and Hobbes</td>\n",
       "      <td>...</td>\n",
       "      <td>16087</td>\n",
       "      <td>18198</td>\n",
       "      <td>425</td>\n",
       "      <td>20</td>\n",
       "      <td>61</td>\n",
       "      <td>701</td>\n",
       "      <td>3295</td>\n",
       "      <td>14121</td>\n",
       "      <td>https://images.gr-assets.com/books/1391114055m...</td>\n",
       "      <td>https://images.gr-assets.com/books/1391114055s...</td>\n",
       "    </tr>\n",
       "    <tr>\n",
       "      <th>7946</th>\n",
       "      <td>7947</td>\n",
       "      <td>5031805</td>\n",
       "      <td>5031805</td>\n",
       "      <td>40769318</td>\n",
       "      <td>96</td>\n",
       "      <td>1433502410</td>\n",
       "      <td>9.781434e+12</td>\n",
       "      <td>Anonymous, Lane T. Dennis, Wayne A. Grudem</td>\n",
       "      <td>2002.0</td>\n",
       "      <td>NaN</td>\n",
       "      <td>...</td>\n",
       "      <td>8953</td>\n",
       "      <td>10784</td>\n",
       "      <td>262</td>\n",
       "      <td>98</td>\n",
       "      <td>90</td>\n",
       "      <td>367</td>\n",
       "      <td>1152</td>\n",
       "      <td>9077</td>\n",
       "      <td>https://images.gr-assets.com/books/1410151002m...</td>\n",
       "      <td>https://images.gr-assets.com/books/1410151002s...</td>\n",
       "    </tr>\n",
       "    <tr>\n",
       "      <th>3752</th>\n",
       "      <td>3753</td>\n",
       "      <td>10</td>\n",
       "      <td>10</td>\n",
       "      <td>21457570</td>\n",
       "      <td>6</td>\n",
       "      <td>439827604</td>\n",
       "      <td>9.780440e+12</td>\n",
       "      <td>J.K. Rowling</td>\n",
       "      <td>2005.0</td>\n",
       "      <td>Harry Potter Collection (Harry Potter, #1-6)</td>\n",
       "      <td>...</td>\n",
       "      <td>24618</td>\n",
       "      <td>26274</td>\n",
       "      <td>882</td>\n",
       "      <td>203</td>\n",
       "      <td>186</td>\n",
       "      <td>946</td>\n",
       "      <td>3891</td>\n",
       "      <td>21048</td>\n",
       "      <td>https://images.gr-assets.com/books/1328867351m...</td>\n",
       "      <td>https://images.gr-assets.com/books/1328867351s...</td>\n",
       "    </tr>\n",
       "    <tr>\n",
       "      <th>8853</th>\n",
       "      <td>8854</td>\n",
       "      <td>95602</td>\n",
       "      <td>95602</td>\n",
       "      <td>920037</td>\n",
       "      <td>6</td>\n",
       "      <td>842339523</td>\n",
       "      <td>9.780842e+12</td>\n",
       "      <td>Francine Rivers</td>\n",
       "      <td>1993.0</td>\n",
       "      <td>Mark of the Lion Trilogy</td>\n",
       "      <td>...</td>\n",
       "      <td>9081</td>\n",
       "      <td>9547</td>\n",
       "      <td>731</td>\n",
       "      <td>27</td>\n",
       "      <td>61</td>\n",
       "      <td>323</td>\n",
       "      <td>1363</td>\n",
       "      <td>7773</td>\n",
       "      <td>https://images.gr-assets.com/books/1349032180m...</td>\n",
       "      <td>https://images.gr-assets.com/books/1349032180s...</td>\n",
       "    </tr>\n",
       "  </tbody>\n",
       "</table>\n",
       "<p>5 rows × 23 columns</p>\n",
       "</div>"
      ],
      "text/plain": [
       "        id  book_id  best_book_id   work_id  books_count        isbn  \\\n",
       "9075  9076  2350129       2350129   2356840            5   402366174   \n",
       "6589  6590    59715         59715   1010526           21   751507954   \n",
       "7946  7947  5031805       5031805  40769318           96  1433502410   \n",
       "3752  3753       10            10  21457570            6   439827604   \n",
       "8853  8854    95602         95602    920037            6   842339523   \n",
       "\n",
       "            isbn13                                          authors  \\\n",
       "9075  9.780402e+12  The Church of Jesus Christ of Latter-day Saints   \n",
       "6589  9.780752e+12                                   Bill Watterson   \n",
       "7946  9.781434e+12       Anonymous, Lane T. Dennis, Wayne A. Grudem   \n",
       "3752  9.780440e+12                                     J.K. Rowling   \n",
       "8853  9.780842e+12                                  Francine Rivers   \n",
       "\n",
       "      original_publication_year  \\\n",
       "9075                     2004.0   \n",
       "6589                     1990.0   \n",
       "7946                     2002.0   \n",
       "3752                     2005.0   \n",
       "8853                     1993.0   \n",
       "\n",
       "                                        original_title  ... ratings_count  \\\n",
       "9075  Preach My Gospel (A Guide to Missionary Service)  ...          9891   \n",
       "6589               The Authoritative Calvin and Hobbes  ...         16087   \n",
       "7946                                               NaN  ...          8953   \n",
       "3752      Harry Potter Collection (Harry Potter, #1-6)  ...         24618   \n",
       "8853                          Mark of the Lion Trilogy  ...          9081   \n",
       "\n",
       "     work_ratings_count  work_text_reviews_count  ratings_1  ratings_2  \\\n",
       "9075              10194                      206        105         83   \n",
       "6589              18198                      425         20         61   \n",
       "7946              10784                      262         98         90   \n",
       "3752              26274                      882        203        186   \n",
       "8853               9547                      731         27         61   \n",
       "\n",
       "      ratings_3  ratings_4  ratings_5  \\\n",
       "9075        463       1365       8178   \n",
       "6589        701       3295      14121   \n",
       "7946        367       1152       9077   \n",
       "3752        946       3891      21048   \n",
       "8853        323       1363       7773   \n",
       "\n",
       "                                              image_url  \\\n",
       "9075  https://images.gr-assets.com/books/1399612262m...   \n",
       "6589  https://images.gr-assets.com/books/1391114055m...   \n",
       "7946  https://images.gr-assets.com/books/1410151002m...   \n",
       "3752  https://images.gr-assets.com/books/1328867351m...   \n",
       "8853  https://images.gr-assets.com/books/1349032180m...   \n",
       "\n",
       "                                        small_image_url  \n",
       "9075  https://images.gr-assets.com/books/1399612262s...  \n",
       "6589  https://images.gr-assets.com/books/1391114055s...  \n",
       "7946  https://images.gr-assets.com/books/1410151002s...  \n",
       "3752  https://images.gr-assets.com/books/1328867351s...  \n",
       "8853  https://images.gr-assets.com/books/1349032180s...  \n",
       "\n",
       "[5 rows x 23 columns]"
      ]
     },
     "execution_count": 18,
     "metadata": {},
     "output_type": "execute_result"
    }
   ],
   "source": [
    "books.iloc[pred_ids]"
   ]
  },
  {
   "cell_type": "code",
   "execution_count": null,
   "metadata": {},
   "outputs": [],
   "source": []
  }
 ],
 "metadata": {
  "kernelspec": {
   "display_name": "Python 3",
   "language": "python",
   "name": "python3"
  },
  "language_info": {
   "codemirror_mode": {
    "name": "ipython",
    "version": 3
   },
   "file_extension": ".py",
   "mimetype": "text/x-python",
   "name": "python",
   "nbconvert_exporter": "python",
   "pygments_lexer": "ipython3",
   "version": "3.8.2-final"
  }
 },
 "nbformat": 4,
 "nbformat_minor": 4
}